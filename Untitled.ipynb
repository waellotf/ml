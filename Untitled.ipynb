{
 "cells": [
  {
   "cell_type": "markdown",
   "id": "2c0060de",
   "metadata": {},
   "source": [
    "# python\n",
    "## python\n",
    "### python"
   ]
  },
  {
   "cell_type": "code",
   "execution_count": 2,
   "id": "d6eac5d6",
   "metadata": {},
   "outputs": [],
   "source": [
    "x=5\n"
   ]
  },
  {
   "cell_type": "code",
   "execution_count": 6,
   "id": "48f42bff",
   "metadata": {},
   "outputs": [
    {
     "data": {
      "text/plain": [
       "6"
      ]
     },
     "execution_count": 6,
     "metadata": {},
     "output_type": "execute_result"
    }
   ],
   "source": [
    "x=5\n",
    "y=6\n",
    "y"
   ]
  },
  {
   "cell_type": "code",
   "execution_count": 10,
   "id": "1e3b2cd5",
   "metadata": {},
   "outputs": [
    {
     "data": {
      "text/plain": [
       "'am'"
      ]
     },
     "execution_count": 10,
     "metadata": {},
     "output_type": "execute_result"
    }
   ],
   "source": [
    "name= \"amit\"\n",
    "name[-4:-2]"
   ]
  },
  {
   "cell_type": "code",
   "execution_count": null,
   "id": "fcfb0ae8",
   "metadata": {},
   "outputs": [],
   "source": []
  }
 ],
 "metadata": {
  "kernelspec": {
   "display_name": "Python 3 (ipykernel)",
   "language": "python",
   "name": "python3"
  },
  "language_info": {
   "codemirror_mode": {
    "name": "ipython",
    "version": 3
   },
   "file_extension": ".py",
   "mimetype": "text/x-python",
   "name": "python",
   "nbconvert_exporter": "python",
   "pygments_lexer": "ipython3",
   "version": "3.10.9"
  }
 },
 "nbformat": 4,
 "nbformat_minor": 5
}
